{
 "cells": [
  {
   "cell_type": "code",
   "execution_count": null,
   "metadata": {},
   "outputs": [],
   "source": [
    "import time\n",
    "import threading\n",
    "import multiprocessing\n",
    "import asyncio\n",
    "\n",
    "def is_prime(n):\n",
    "    if n<= 1:\n",
    "        return False\n",
    "    for i in range(2, int(n** 0.5) +1):\n",
    "        if n % i ==0:\n",
    "            return False\n",
    "    return True"
   ]
  },
  {
   "cell_type": "code",
   "execution_count": null,
   "metadata": {},
   "outputs": [],
   "source": [
    "def find_highest_prime():\n",
    "    start_time = time.time()\n",
    "    highest_prime = 0\n",
    "    n = 0\n",
    "    while time.time() - start_time < 180: #3min = 180sec\n",
    "        if is_prime(n):\n",
    "            highest_prime = n\n",
    "        n += 1\n",
    "    print(f\"Highest Prime Number: {highest_prime}\")\n",
    "    return highest_prime\n"
   ]
  },
  {
   "cell_type": "code",
   "execution_count": 3,
   "metadata": {},
   "outputs": [],
   "source": [
    "def run_prime_finder():\n",
    "    process = multiprocessing.Process(target = find_highest_prime)\n",
    "    process.start()\n",
    "    process.join()\n",
    "    return find_highest_prime"
   ]
  }
 ],
 "metadata": {
  "kernelspec": {
   "display_name": "base",
   "language": "python",
   "name": "python3"
  },
  "language_info": {
   "codemirror_mode": {
    "name": "ipython",
    "version": 3
   },
   "file_extension": ".py",
   "mimetype": "text/x-python",
   "name": "python",
   "nbconvert_exporter": "python",
   "pygments_lexer": "ipython3",
   "version": "3.12.7"
  }
 },
 "nbformat": 4,
 "nbformat_minor": 2
}
