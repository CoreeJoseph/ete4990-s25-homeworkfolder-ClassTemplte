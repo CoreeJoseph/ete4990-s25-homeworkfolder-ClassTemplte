{
 "cells": [
  {
   "cell_type": "code",
   "execution_count": 9,
   "metadata": {},
   "outputs": [],
   "source": [
    "import time\n",
    "import threading\n",
    "import multiprocessing\n",
    "import asyncio\n",
    "\n",
    "def is_prime(n):\n",
    "    if n<= 1:\n",
    "        return False\n",
    "    for i in range(2, int(n** 0.5) +1):\n",
    "        if n % i ==0:\n",
    "            return False\n",
    "    return True"
   ]
  },
  {
   "cell_type": "code",
   "execution_count": 10,
   "metadata": {},
   "outputs": [],
   "source": [
    "def find_highest_prime():\n",
    "    start_time = time.time()\n",
    "    highest_prime = 0\n",
    "    n = 0\n",
    "    while time.time() - start_time < 180: #3min = 180sec\n",
    "        if is_prime(n):\n",
    "            highest_prime = n\n",
    "        n += 1\n",
    "    print(f\"Highest Prime Number: {highest_prime}\")\n",
    "    return highest_prime\n"
   ]
  },
  {
   "cell_type": "code",
   "execution_count": 11,
   "metadata": {},
   "outputs": [],
   "source": [
    "def run_prime_finder():\n",
    "    process = multiprocessing.Process(target = find_highest_prime)\n",
    "    process.start()\n",
    "    process.join()\n",
    "    return find_highest_prime"
   ]
  },
  {
   "cell_type": "code",
   "execution_count": 12,
   "metadata": {},
   "outputs": [],
   "source": [
    "def fibonacci(n):\n",
    "    a, b = 0, 1\n",
    "    for p in range(n):\n",
    "        a, b = b, a + b\n",
    "    print(f\"Fibonacci of {n}: {a}\")\n"
   ]
  },
  {
   "cell_type": "code",
   "execution_count": 13,
   "metadata": {},
   "outputs": [],
   "source": [
    "async def factorial(n):\n",
    "    result = 1\n",
    "    for i in range(1, n + 1):\n",
    "        result *= i\n",
    "    print(f\"Factorial of {n}: {result}\")\n",
    "    "
   ]
  },
  {
   "cell_type": "code",
   "execution_count": null,
   "metadata": {},
   "outputs": [
    {
     "name": "stderr",
     "output_type": "stream",
     "text": [
      "Exception in thread Thread-213 (fibonacci):\n",
      "Traceback (most recent call last):\n",
      "  File \"c:\\Users\\19512\\anaconda3\\Lib\\threading.py\", line 1075, in _bootstrap_inner\n",
      "    self.run()\n",
      "  File \"c:\\Users\\19512\\anaconda3\\Lib\\threading.py\", line 1012, in run\n"
     ]
    },
    {
     "name": "stderr",
     "output_type": "stream",
     "text": [
      "    self._target(*self._args, **self._kwargs)\n",
      "  File \"C:\\Users\\19512\\AppData\\Local\\Temp\\ipykernel_31720\\1890019555.py\", line 3, in fibonacci\n",
      "TypeError: 'function' object cannot be interpreted as an integer\n"
     ]
    }
   ],
   "source": [
    "if __name__ == \"__main__\":\n",
    "    highest_prime = run_prime_finder\n",
    "    fib_thread = threading.Thread(target=fibonacci, args=(highest_prime,))\n",
    "    fib_thread.start()\n",
    "    loop = asyncio.get_event_loop()\n"
   ]
  }
 ],
 "metadata": {
  "kernelspec": {
   "display_name": "base",
   "language": "python",
   "name": "python3"
  },
  "language_info": {
   "codemirror_mode": {
    "name": "ipython",
    "version": 3
   },
   "file_extension": ".py",
   "mimetype": "text/x-python",
   "name": "python",
   "nbconvert_exporter": "python",
   "pygments_lexer": "ipython3",
   "version": "3.12.7"
  }
 },
 "nbformat": 4,
 "nbformat_minor": 2
}
