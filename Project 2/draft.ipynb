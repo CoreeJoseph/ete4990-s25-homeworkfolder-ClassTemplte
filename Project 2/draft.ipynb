{
 "cells": [
  {
   "cell_type": "code",
   "execution_count": 28,
   "metadata": {},
   "outputs": [],
   "source": [
    "import time\n",
    "import threading\n",
    "import multiprocessing\n",
    "import asyncio\n",
    "\n",
    "def is_prime(n):\n",
    "    if n<= 1:\n",
    "        return False\n",
    "    for i in range(2, int(n** 0.5) +1):\n",
    "        if n % i ==0:\n",
    "            return False\n",
    "    return True"
   ]
  },
  {
   "cell_type": "code",
   "execution_count": null,
   "metadata": {},
   "outputs": [],
   "source": [
    "def find_highest_prime():\n",
    "    start_time = time.time()\n",
    "    highest_prime = 0\n",
    "    n = 0\n",
    "    while time.time() - start_time < 180: #3min = 180sec\n",
    "        if is_prime(n):\n",
    "            highest_prime = n\n",
    "        n += 1\n",
    "    print(f\"Highest Prime Number: {highest_prime}\")\n",
    "    return highest_prime\n"
   ]
  },
  {
   "cell_type": "code",
   "execution_count": null,
   "metadata": {},
   "outputs": [],
   "source": [
    "def run_prime_finder():\n",
    "    process = multiprocessing.Process(target = find_highest_prime)\n",
    "    process.start()\n",
    "    process.join()\n",
    "    return find_highest_prime"
   ]
  },
  {
   "cell_type": "code",
   "execution_count": 31,
   "metadata": {},
   "outputs": [],
   "source": [
    "def fibonacci(n):\n",
    "    a, b = 0, 1\n",
    "    for _ in range(n):\n",
    "        a, b = b, a + b\n",
    "    print(f\"Fibonacci of {n}: {a}\")\n"
   ]
  },
  {
   "cell_type": "code",
   "execution_count": 32,
   "metadata": {},
   "outputs": [],
   "source": [
    "async def factorial(n):\n",
    "    result = 1\n",
    "    for i in range(1, n + 1):\n",
    "        result *= i\n",
    "    print(f\"Factorial of {n}: {result}\")\n",
    "\n",
    "async def main(highest_prime):\n",
    "    await asyncio.gather(factorial(highest_prime))    "
   ]
  },
  {
   "cell_type": "code",
   "execution_count": null,
   "metadata": {},
   "outputs": [
    {
     "ename": "AttributeError",
     "evalue": "module 'multiprocessing' has no attribute 'value'",
     "output_type": "error",
     "traceback": [
      "\u001b[1;31m---------------------------------------------------------------------------\u001b[0m",
      "\u001b[1;31mAttributeError\u001b[0m                            Traceback (most recent call last)",
      "Cell \u001b[1;32mIn[33], line 2\u001b[0m\n\u001b[0;32m      1\u001b[0m \u001b[38;5;28;01mif\u001b[39;00m \u001b[38;5;18m__name__\u001b[39m \u001b[38;5;241m==\u001b[39m \u001b[38;5;124m\"\u001b[39m\u001b[38;5;124m__main__\u001b[39m\u001b[38;5;124m\"\u001b[39m:\n\u001b[1;32m----> 2\u001b[0m     highest_prime \u001b[38;5;241m=\u001b[39m run_prime_finder()\n\u001b[0;32m      3\u001b[0m     fib_thread \u001b[38;5;241m=\u001b[39m threading\u001b[38;5;241m.\u001b[39mThread(target\u001b[38;5;241m=\u001b[39mfibonacci, args\u001b[38;5;241m=\u001b[39m(highest_prime,))\n\u001b[0;32m      4\u001b[0m     fib_thread\u001b[38;5;241m.\u001b[39mstart()\n",
      "Cell \u001b[1;32mIn[30], line 2\u001b[0m, in \u001b[0;36mrun_prime_finder\u001b[1;34m()\u001b[0m\n\u001b[0;32m      1\u001b[0m \u001b[38;5;28;01mdef\u001b[39;00m \u001b[38;5;21mrun_prime_finder\u001b[39m():\n\u001b[1;32m----> 2\u001b[0m     shared_value \u001b[38;5;241m=\u001b[39m multiprocessing\u001b[38;5;241m.\u001b[39mvalue(\u001b[38;5;124m'\u001b[39m\u001b[38;5;124mi\u001b[39m\u001b[38;5;124m'\u001b[39m,\u001b[38;5;241m0\u001b[39m)\n\u001b[0;32m      3\u001b[0m     process \u001b[38;5;241m=\u001b[39m multiprocessing\u001b[38;5;241m.\u001b[39mProcess(target \u001b[38;5;241m=\u001b[39m find_highest_prime)\n\u001b[0;32m      4\u001b[0m     process\u001b[38;5;241m.\u001b[39mstart()\n",
      "\u001b[1;31mAttributeError\u001b[0m: module 'multiprocessing' has no attribute 'value'"
     ]
    }
   ],
   "source": [
    "if __name__ == \"__main__\":\n",
    "    highest_prime = run_prime_finder()\n",
    "    fib_thread = threading.Thread(target=fibonacci, args=(highest_prime,))\n",
    "    fib_thread.start()\n",
    "    #loop = asyncio.get_event_loop()\n",
    "    #loop.run_until_complete(main(highest_prime))\n",
    "    #    asyncio.gather(*(factorial(highest_prime),))\n",
    "    #)\n",
    "    #loop.close\n",
    "    asyncio.run(main(highest_prime))\n",
    "    fib_thread.join()\n",
    "    print(\"Calculations are done!\")\n",
    "\n"
   ]
  }
 ],
 "metadata": {
  "kernelspec": {
   "display_name": "base",
   "language": "python",
   "name": "python3"
  },
  "language_info": {
   "codemirror_mode": {
    "name": "ipython",
    "version": 3
   },
   "file_extension": ".py",
   "mimetype": "text/x-python",
   "name": "python",
   "nbconvert_exporter": "python",
   "pygments_lexer": "ipython3",
   "version": "3.12.7"
  }
 },
 "nbformat": 4,
 "nbformat_minor": 2
}
