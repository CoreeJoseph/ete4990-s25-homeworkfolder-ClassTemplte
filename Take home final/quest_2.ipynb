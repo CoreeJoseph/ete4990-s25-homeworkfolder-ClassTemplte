{
 "cells": [
  {
   "cell_type": "code",
   "execution_count": 1,
   "id": "e7318bb7",
   "metadata": {},
   "outputs": [
    {
     "name": "stdout",
     "output_type": "stream",
     "text": [
      "Collecting xmltodict\n",
      "  Downloading xmltodict-0.14.2-py2.py3-none-any.whl.metadata (8.0 kB)\n",
      "Downloading xmltodict-0.14.2-py2.py3-none-any.whl (10.0 kB)\n",
      "Installing collected packages: xmltodict\n",
      "Successfully installed xmltodict-0.14.2\n"
     ]
    }
   ],
   "source": [
    "!pip install xmltodict"
   ]
  },
  {
   "cell_type": "code",
   "execution_count": 1,
   "id": "5e6e24f5",
   "metadata": {},
   "outputs": [],
   "source": [
    "import os\n",
    "import json\n",
    "import pandas as pd\n",
    "import seaborn as sns\n",
    "import matplotlib.pyplot as plt\n",
    "from datetime import datetime"
   ]
  },
  {
   "cell_type": "code",
   "execution_count": null,
   "id": "14e9a76c",
   "metadata": {},
   "outputs": [],
   "source": [
    "def load_data(currency_code, data_dir = \"data\"):\n",
    "    folder = os.path.join(data_dir, currency_code)\n",
    "    if not os.path.exists(folder):\n",
    "        raise FileNotFoundError(f\"No data found on currency: {currency_code}\")\n",
    "    \n",
    "    records = []\n",
    "    for filename in sorted(os.listdir(folder)):\n",
    "        if filename.endswith(\".json\"):\n",
    "            path = os.path.join(folder, filename)\n",
    "            with open(path, \"r\", encoding = \"utf-8\") as f:\n",
    "                data = json.load(f)\n",
    "                try:\n",
    "                    entries = data[\"channel\"][\"item\"]\n",
    "                    for entry in entries:\n",
    "                        records.append({\n",
    "                            \"date\": entry[\"date\"][:10],\n",
    "                            \"targetCurrency\": entry[\"targetCurrency\"],\n",
    "                            \"exchangeRate\": float(entry[\"exchangeRate\"]),\n",
    "                            \"baseCurrency\": entry[\"baseCurrency\"]\n",
    "                        })\n",
    "                except Exception as e:\n",
    "                        \n"
   ]
  }
 ],
 "metadata": {
  "kernelspec": {
   "display_name": "base",
   "language": "python",
   "name": "python3"
  },
  "language_info": {
   "codemirror_mode": {
    "name": "ipython",
    "version": 3
   },
   "file_extension": ".py",
   "mimetype": "text/x-python",
   "name": "python",
   "nbconvert_exporter": "python",
   "pygments_lexer": "ipython3",
   "version": "3.12.7"
  }
 },
 "nbformat": 4,
 "nbformat_minor": 5
}
