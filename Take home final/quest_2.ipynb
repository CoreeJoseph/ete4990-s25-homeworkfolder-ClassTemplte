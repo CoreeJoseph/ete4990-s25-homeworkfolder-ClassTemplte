{
 "cells": [
  {
   "cell_type": "code",
   "execution_count": 1,
   "id": "e7318bb7",
   "metadata": {},
   "outputs": [
    {
     "name": "stdout",
     "output_type": "stream",
     "text": [
      "Collecting xmltodict\n",
      "  Downloading xmltodict-0.14.2-py2.py3-none-any.whl.metadata (8.0 kB)\n",
      "Downloading xmltodict-0.14.2-py2.py3-none-any.whl (10.0 kB)\n",
      "Installing collected packages: xmltodict\n",
      "Successfully installed xmltodict-0.14.2\n"
     ]
    }
   ],
   "source": [
    "!pip install xmltodict"
   ]
  },
  {
   "cell_type": "code",
   "execution_count": 18,
   "id": "5e6e24f5",
   "metadata": {},
   "outputs": [],
   "source": [
    "import os\n",
    "import json\n",
    "import pandas as pd\n",
    "import seaborn as sns\n",
    "import matplotlib.pyplot as plt\n"
   ]
  },
  {
   "cell_type": "code",
   "execution_count": 20,
   "id": "e601f7bd",
   "metadata": {},
   "outputs": [],
   "source": [
    "def extract_date_from_filename(filename):\n",
    "    basename = os.path.basename(filename)\n",
    "    date_str = basename.split('_')[-1].replace('.json', '')\n",
    "    return pd.to_datetime(date_str)\n"
   ]
  },
  {
   "cell_type": "code",
   "execution_count": null,
   "id": "6efd2f0a",
   "metadata": {},
   "outputs": [],
   "source": [
    "def load_data(folder_path):\n",
    "    data = []\n",
    "    for file in os.listdir(folder_path):"
   ]
  },
  {
   "cell_type": "code",
   "execution_count": null,
   "id": "8b0dbc66",
   "metadata": {},
   "outputs": [],
   "source": [
    "major_targets = [\"USD\", \"EUR\", \"GBP\", \"CNY\", \"AUD\"]"
   ]
  },
  {
   "cell_type": "code",
   "execution_count": 16,
   "id": "5343df65",
   "metadata": {},
   "outputs": [
    {
     "name": "stdout",
     "output_type": "stream",
     "text": [
      "Error parsing 2011-05-04.json: 'date'\n",
      "Error parsing 2011-05-05.json: 'date'\n",
      "Error parsing 2011-05-06.json: 'date'\n",
      "Error parsing 2011-05-07.json: 'date'\n",
      "Error parsing 2011-05-08.json: 'date'\n",
      "Error parsing 2011-05-09.json: 'date'\n",
      "Error parsing 2011-05-10.json: 'date'\n",
      "Error parsing 2011-05-11.json: 'date'\n",
      "Error parsing 2011-05-12.json: 'date'\n",
      "Error parsing 2011-05-13.json: 'date'\n",
      "Error parsing 2011-05-14.json: 'date'\n",
      "Error parsing 2011-05-15.json: 'date'\n",
      "Error parsing 2011-05-16.json: 'date'\n",
      "Error parsing 2011-05-17.json: 'date'\n",
      "Error parsing 2011-05-18.json: 'date'\n",
      "Error parsing 2011-05-19.json: 'date'\n",
      "Error parsing 2011-05-20.json: 'date'\n",
      "Error parsing 2011-05-21.json: 'date'\n",
      "Error parsing 2011-05-22.json: 'date'\n",
      "Error parsing 2011-05-23.json: 'date'\n",
      "Error parsing 2011-05-24.json: 'date'\n",
      "Error parsing 2011-05-25.json: 'date'\n",
      "Error parsing 2011-05-26.json: 'date'\n",
      "Error parsing 2011-05-27.json: 'date'\n",
      "Error parsing 2011-05-28.json: 'date'\n",
      "Error parsing 2011-05-29.json: 'date'\n",
      "Error parsing 2011-05-30.json: 'date'\n",
      "Error parsing 2011-05-31.json: 'date'\n",
      "Error parsing 2011-06-01.json: 'date'\n",
      "Error parsing 2011-06-02.json: 'date'\n"
     ]
    },
    {
     "ename": "KeyError",
     "evalue": "'date'",
     "output_type": "error",
     "traceback": [
      "\u001b[1;31m---------------------------------------------------------------------------\u001b[0m",
      "\u001b[1;31mKeyError\u001b[0m                                  Traceback (most recent call last)",
      "Cell \u001b[1;32mIn[16], line 2\u001b[0m\n\u001b[0;32m      1\u001b[0m all_data \u001b[38;5;241m=\u001b[39m load_data(base_currency)\n\u001b[1;32m----> 2\u001b[0m all_data[\u001b[38;5;124m\"\u001b[39m\u001b[38;5;124mdate\u001b[39m\u001b[38;5;124m\"\u001b[39m] \u001b[38;5;241m=\u001b[39m pd\u001b[38;5;241m.\u001b[39mto_datetime(all_data[\u001b[38;5;124m\"\u001b[39m\u001b[38;5;124mdate\u001b[39m\u001b[38;5;124m\"\u001b[39m])\n\u001b[0;32m      3\u001b[0m columns_to_keep \u001b[38;5;241m=\u001b[39m [\u001b[38;5;124m\"\u001b[39m\u001b[38;5;124mdate\u001b[39m\u001b[38;5;124m\"\u001b[39m] \u001b[38;5;241m+\u001b[39m major_targets\n\u001b[0;32m      4\u001b[0m filtered_data \u001b[38;5;241m=\u001b[39m all_data[columns_to_keep]\n",
      "File \u001b[1;32mc:\\Users\\19512\\anaconda3\\Lib\\site-packages\\pandas\\core\\frame.py:4102\u001b[0m, in \u001b[0;36mDataFrame.__getitem__\u001b[1;34m(self, key)\u001b[0m\n\u001b[0;32m   4100\u001b[0m \u001b[38;5;28;01mif\u001b[39;00m \u001b[38;5;28mself\u001b[39m\u001b[38;5;241m.\u001b[39mcolumns\u001b[38;5;241m.\u001b[39mnlevels \u001b[38;5;241m>\u001b[39m \u001b[38;5;241m1\u001b[39m:\n\u001b[0;32m   4101\u001b[0m     \u001b[38;5;28;01mreturn\u001b[39;00m \u001b[38;5;28mself\u001b[39m\u001b[38;5;241m.\u001b[39m_getitem_multilevel(key)\n\u001b[1;32m-> 4102\u001b[0m indexer \u001b[38;5;241m=\u001b[39m \u001b[38;5;28mself\u001b[39m\u001b[38;5;241m.\u001b[39mcolumns\u001b[38;5;241m.\u001b[39mget_loc(key)\n\u001b[0;32m   4103\u001b[0m \u001b[38;5;28;01mif\u001b[39;00m is_integer(indexer):\n\u001b[0;32m   4104\u001b[0m     indexer \u001b[38;5;241m=\u001b[39m [indexer]\n",
      "File \u001b[1;32mc:\\Users\\19512\\anaconda3\\Lib\\site-packages\\pandas\\core\\indexes\\range.py:417\u001b[0m, in \u001b[0;36mRangeIndex.get_loc\u001b[1;34m(self, key)\u001b[0m\n\u001b[0;32m    415\u001b[0m         \u001b[38;5;28;01mraise\u001b[39;00m \u001b[38;5;167;01mKeyError\u001b[39;00m(key) \u001b[38;5;28;01mfrom\u001b[39;00m \u001b[38;5;21;01merr\u001b[39;00m\n\u001b[0;32m    416\u001b[0m \u001b[38;5;28;01mif\u001b[39;00m \u001b[38;5;28misinstance\u001b[39m(key, Hashable):\n\u001b[1;32m--> 417\u001b[0m     \u001b[38;5;28;01mraise\u001b[39;00m \u001b[38;5;167;01mKeyError\u001b[39;00m(key)\n\u001b[0;32m    418\u001b[0m \u001b[38;5;28mself\u001b[39m\u001b[38;5;241m.\u001b[39m_check_indexing_error(key)\n\u001b[0;32m    419\u001b[0m \u001b[38;5;28;01mraise\u001b[39;00m \u001b[38;5;167;01mKeyError\u001b[39;00m(key)\n",
      "\u001b[1;31mKeyError\u001b[0m: 'date'"
     ]
    }
   ],
   "source": [
    "all_data = load_data(base_currency)\n",
    "all_data[\"date\"] = pd.to_datetime(all_data[\"date\"])\n",
    "columns_to_keep = [\"date\"] + major_targets\n",
    "filtered_data = all_data[columns_to_keep]\n",
    "#filtered_data[\"date\"] = pd.to_datetime(filtered_data[\"date\"])"
   ]
  },
  {
   "cell_type": "code",
   "execution_count": 17,
   "id": "9a80b1aa",
   "metadata": {},
   "outputs": [
    {
     "ename": "NameError",
     "evalue": "name 'filtered_data' is not defined",
     "output_type": "error",
     "traceback": [
      "\u001b[1;31m---------------------------------------------------------------------------\u001b[0m",
      "\u001b[1;31mNameError\u001b[0m                                 Traceback (most recent call last)",
      "Cell \u001b[1;32mIn[17], line 1\u001b[0m\n\u001b[1;32m----> 1\u001b[0m time_series_df \u001b[38;5;241m=\u001b[39m filtered_data\u001b[38;5;241m.\u001b[39mpivot(index\u001b[38;5;241m=\u001b[39m\u001b[38;5;124m\"\u001b[39m\u001b[38;5;124mdate\u001b[39m\u001b[38;5;124m\"\u001b[39m, columns \u001b[38;5;241m=\u001b[39m \u001b[38;5;124m\"\u001b[39m\u001b[38;5;124mtargetCurrency\u001b[39m\u001b[38;5;124m\"\u001b[39m, value \u001b[38;5;241m=\u001b[39m \u001b[38;5;124m\"\u001b[39m\u001b[38;5;124mexchangeRate\u001b[39m\u001b[38;5;124m\"\u001b[39m)\n",
      "\u001b[1;31mNameError\u001b[0m: name 'filtered_data' is not defined"
     ]
    }
   ],
   "source": [
    "time_series_df = filtered_data.pivot(index=\"date\", columns = \"targetCurrency\", value = \"exchangeRate\")"
   ]
  }
 ],
 "metadata": {
  "kernelspec": {
   "display_name": "base",
   "language": "python",
   "name": "python3"
  },
  "language_info": {
   "codemirror_mode": {
    "name": "ipython",
    "version": 3
   },
   "file_extension": ".py",
   "mimetype": "text/x-python",
   "name": "python",
   "nbconvert_exporter": "python",
   "pygments_lexer": "ipython3",
   "version": "3.12.7"
  }
 },
 "nbformat": 4,
 "nbformat_minor": 5
}
