{
 "cells": [
  {
   "cell_type": "code",
   "execution_count": 1,
   "id": "5f3baefd",
   "metadata": {},
   "outputs": [
    {
     "name": "stdout",
     "output_type": "stream",
     "text": [
      "Requirement already satisfied: xmltodict in c:\\users\\19512\\anaconda3\\lib\\site-packages (0.14.2)\n"
     ]
    }
   ],
   "source": [
    "!pip install xmltodict"
   ]
  },
  {
   "cell_type": "code",
   "execution_count": 7,
   "id": "3d40af7d",
   "metadata": {},
   "outputs": [],
   "source": [
    "import requests\n",
    "import xmltodict\n",
    "import json\n",
    "import random\n",
    "import os\n",
    "import threading\n"
   ]
  },
  {
   "cell_type": "code",
   "execution_count": 8,
   "id": "0b817883",
   "metadata": {},
   "outputs": [],
   "source": [
    "#dict to choose which currency to randomly choose from\n",
    "rates = [\"EUR\", \"GBP\", \"USD\", \"DZD\", \"AUD\", \"BWP\", \"BND\", \"CAD\", \"CLP\", \"CNY\", \"COP\", \"CZK\", \"DKK\", \"HUF\", \"ISK\", \"INR\", \"IDR\",\"ILS\", \"KZT\", \"KRW\", \"KWD\", \"LYD\", \"MYR\", \"MUR\", \"NPR\", \"NZD\", \"NOK\", \"OMR\", \"PKR\", \"PLN\", \"QAR\", \"RUB\", \"SAR\", \"SGD\", \"ZAR\", \"LKR\", \"SEK\", \"CHF\", \"THB\", \"TTD\"]\n",
    "rates_for_base = [r for r in rates if r != \"USD\" and r != \"EUR\" and r != \"GBP\"]\n",
    "base_currency = random.choice(rates_for_base)"
   ]
  },
  {
   "cell_type": "code",
   "execution_count": 9,
   "id": "6f5a5b44",
   "metadata": {},
   "outputs": [],
   "source": [
    "date = \"2011-05-04\""
   ]
  },
  {
   "cell_type": "code",
   "execution_count": 10,
   "id": "f16420e8",
   "metadata": {},
   "outputs": [],
   "source": [
    "#to save JSON files under\n",
    "os.makedirs(\"exchange_data\", exist_ok=True)"
   ]
  },
  {
   "cell_type": "code",
   "execution_count": 13,
   "id": "53314243",
   "metadata": {},
   "outputs": [
    {
     "ename": "SyntaxError",
     "evalue": "incomplete input (4188512115.py, line 11)",
     "output_type": "error",
     "traceback": [
      "\u001b[1;36m  Cell \u001b[1;32mIn[13], line 11\u001b[1;36m\u001b[0m\n\u001b[1;33m    \u001b[0m\n\u001b[1;37m    ^\u001b[0m\n\u001b[1;31mSyntaxError\u001b[0m\u001b[1;31m:\u001b[0m incomplete input\n"
     ]
    }
   ],
   "source": [
    "#download data\n",
    "def download_exchange_data(date, base):\n",
    "    url = f\"https://www.floatrates.com/historical-exchange-rates.html?operation=rates&pb_id=1775&page=historical&currency_date={date}&base_currency_code={base_currency}&format_type=xml\"\n",
    "    try:\n",
    "        response = response.get(url)\n",
    "        response.raise_for_status()\n",
    "        data_dict = xmltodict.parse(response.text)\n",
    "        json_data = json.dumps(data_dict, indent=4)\n",
    "        with open(f\"exchange_data/{date}_exchange_rates_{base}.json\", \"w\") as f:\n",
    "            f.write(json_data)\n",
    "            "
   ]
  }
 ],
 "metadata": {
  "kernelspec": {
   "display_name": "base",
   "language": "python",
   "name": "python3"
  },
  "language_info": {
   "codemirror_mode": {
    "name": "ipython",
    "version": 3
   },
   "file_extension": ".py",
   "mimetype": "text/x-python",
   "name": "python",
   "nbconvert_exporter": "python",
   "pygments_lexer": "ipython3",
   "version": "3.12.7"
  }
 },
 "nbformat": 4,
 "nbformat_minor": 5
}
