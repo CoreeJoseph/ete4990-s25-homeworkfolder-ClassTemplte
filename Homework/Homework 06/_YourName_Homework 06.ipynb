{
 "cells": [
  {
   "cell_type": "markdown",
   "metadata": {},
   "source": [
    "Your name goes here Pleaese"
   ]
  },
  {
   "cell_type": "markdown",
   "metadata": {},
   "source": [
    "## Objective:\n",
    "The objective of this assignment is to practice using Functional Programing.\n",
    "\n",
    "## Instructions:\n",
    "\n",
    "Using everything we learned to day about Functional Programing, lambda and itters create one of each of the following:\n",
    "-  Basic Lambda Function\n",
    "    - Create a lambda function that takes one arguments and returns even or odd.\n",
    "- Advanced lambda Function\n",
    "    - Create a lambda function that takes a list and returns their sum \n",
    "- Sorting with Lambda\n",
    "- Filtering with Lambda - `filter()` \n",
    "- Mapping with Lambda - `map()`\n",
    "- Reducing with Lambda -  `reduce()` \n",
    "- Enumerate with or without Lambda - `enumerate()`\n",
    "- zip with or without lambda (may combine enumerate like in class) - `zip()`\n",
    "\n",
    "Submit the file as a .py \n",
    "\n",
    "\n"
   ]
  },
  {
   "cell_type": "markdown",
   "metadata": {},
   "source": []
  },
  {
   "cell_type": "code",
   "execution_count": null,
   "metadata": {},
   "outputs": [
    {
     "data": {
      "text/plain": [
       "odd\n",
       "10\n",
       "['bob', 'kobe', 'alice']\n",
       "[3, 4, 5]\n",
       "[1, 4, 9, 16, 25]\n",
       "120\n",
       "Index: 0, Value: 1\n",
       "Index: 1, Value: 2\n",
       "Index: 2, Value: 3\n",
       "Index: 3, Value: 4\n",
       "Index: 4, Value: 5\n",
       "[(1, 'a'), (2, 'b'), (3, 'c')]\n"
      ]
     },
     "metadata": {},
     "output_type": "display_data"
    }
   ],
   "source": [
    "from functools import reduce\n",
    "check_even_odd = lambda x: \"even\" if x % 2 == 0 else \"odd\"\n",
    "print(check_even_odd(5))\n",
    "\n",
    "sum_list = lambda lst: sum(lst)\n",
    "print(sum_list([1, 2, 3, 4]))\n",
    "\n",
    "names = [\"alice\", \"bob\", \"kobe\"]\n",
    "sorted_names = sorted(names, key=lambda name: len(name))\n",
    "print(sorted_names)\n",
    "\n",
    "numbers = [1, 2, 3, 4, 5]\n",
    "filtered_numbers = list(filter(lambda x: x > 2, numbers))\n",
    "print(filtered_numbers)\n",
    "\n",
    "mapped_numbers = list(map(lambda x: x ** 2, numbers))\n",
    "print(mapped_numbers)\n",
    "\n",
    "product = reduce(lambda x, y: x * y, numbers)\n",
    "print(product)\n",
    "\n",
    "for index, value in enumerate(numbers):\n",
    "    print(f\"Index: {index}, Value: {value}\")\n",
    "\n",
    "list1 = [1, 2, 3]\n",
    "list2 = ['a', 'b', 'c']\n",
    "zipped = zip(list1, list2)\n",
    "zipped_list = list(zipped)\n",
    "print(zipped_list)\n"
   ]
  }
 ],
 "metadata": {
  "kernelspec": {
   "display_name": "Python 3",
   "language": "python",
   "name": "python3"
  },
  "language_info": {
   "codemirror_mode": {
    "name": "ipython",
    "version": 3
   },
   "file_extension": ".py",
   "mimetype": "text/x-python",
   "name": "python",
   "nbconvert_exporter": "python",
   "pygments_lexer": "ipython3",
   "version": "3.13.2"
  }
 },
 "nbformat": 4,
 "nbformat_minor": 2
}
