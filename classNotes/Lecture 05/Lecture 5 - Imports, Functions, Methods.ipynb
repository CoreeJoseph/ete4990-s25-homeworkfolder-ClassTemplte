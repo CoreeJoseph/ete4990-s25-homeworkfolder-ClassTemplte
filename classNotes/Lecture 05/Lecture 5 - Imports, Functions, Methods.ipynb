{
 "cells": [
  {
   "cell_type": "markdown",
   "id": "aeb29d97",
   "metadata": {},
   "source": [
    "## Functions\n",
    "\n",
    "    A function is a block of code that is designed to do one specific job. \n",
    "    \n",
    "    It is important that your functions are not overly complicated to ensure their reusability. \n",
    "    \n",
    "    To use a function you call on it by the name of the function. \n",
    "    \n",
    "    Functions are a critical part of coding. Functions allow your code to be easier to read, write, test, and debug \n",
    "  "
   ]
  },
  {
   "cell_type": "code",
   "execution_count": null,
   "id": "caefbba5",
   "metadata": {},
   "outputs": [],
   "source": [
    "def greet_user():\n",
    "    print(\"Hello!\")\n",
    "greet_user()"
   ]
  },
  {
   "cell_type": "code",
   "execution_count": null,
   "id": "a0ced752",
   "metadata": {},
   "outputs": [],
   "source": [
    "for i in range(5):\n",
    "    greet_user()\n"
   ]
  },
  {
   "cell_type": "markdown",
   "id": "8e9e206c",
   "metadata": {},
   "source": [
    "```python\n",
    "def function_name(parameter1, parameter2):\n",
    "    \"\"\"Docstring\"\"\" \n",
    "    Body - stuff to do\n",
    "    return(value)\n",
    "   \n",
    "stored_value = function_name(parameter1=argument1, parameter2=argument2)\n",
    "```\n",
    "       "
   ]
  },
  {
   "cell_type": "markdown",
   "id": "a6d12b02",
   "metadata": {},
   "source": [
    "    Argument - Passed information from a function call to a function.\n",
    "    Parameter - Information a function needs to do its job.\n",
    "    Docstrings - Describes what the function does. Enclosed in triple quotes.\n",
    "    Body - Where the code goes.\n",
    "    return - the return of the function after execution\n",
    "    Keyword argument -  is a name-value pair that you pass to a function parameter1 = argument1\n",
    "    "
   ]
  },
  {
   "cell_type": "code",
   "execution_count": null,
   "id": "69578a3e",
   "metadata": {},
   "outputs": [],
   "source": [
    "def greet_user(username):\n",
    "    \"\"\"Display a simple greeting.\"\"\"\n",
    "    print(\"Hello, \" + username.title() + \"!\")\n",
    "\n",
    "help(greet_user)    \n"
   ]
  },
  {
   "cell_type": "code",
   "execution_count": null,
   "id": "3e24bd6b",
   "metadata": {},
   "outputs": [],
   "source": [
    "greet_user('Mr. Powers')"
   ]
  },
  {
   "cell_type": "code",
   "execution_count": null,
   "id": "8edca455",
   "metadata": {},
   "outputs": [],
   "source": [
    "def greet_user(username,food):\n",
    "    \"\"\"Display a simple greeting.\"\"\"\n",
    "    print(\"Hello, \" + username.title() + \"! Your favorite food is \" + food.title())\n",
    "\n",
    "greet_user('Mr. Powers', 'pizza')    \n",
    "greet_user('pizza','Mr. Powers')"
   ]
  },
  {
   "cell_type": "markdown",
   "id": "df7efc7a",
   "metadata": {},
   "source": [
    "    As you can see order maters. As seen above we can set a vlaue to its keyword argument.\n",
    "    The exact names of the parameters must be used. To check look in the function’s definition."
   ]
  },
  {
   "cell_type": "code",
   "execution_count": null,
   "id": "61c55537",
   "metadata": {},
   "outputs": [],
   "source": [
    "help(greet_user)\n",
    "greet_user(food='pizza', username='Mr. Powers')"
   ]
  },
  {
   "cell_type": "code",
   "execution_count": null,
   "id": "0921689c",
   "metadata": {},
   "outputs": [],
   "source": [
    "greet_user('Mr. Powers')"
   ]
  },
  {
   "cell_type": "markdown",
   "id": "0ceda2a3",
   "metadata": {},
   "source": [
    "    Above code shows that there is no such thing as overloading in python... Or is there\n",
    "    overloading is done a different way in python\n",
    "    \n",
    "    Additionaly, here python givs you a TypeError message that provides the parammeter\n",
    "    needed. This is just one additional reasion you need good names. "
   ]
  },
  {
   "cell_type": "code",
   "execution_count": null,
   "id": "1ee720ab",
   "metadata": {},
   "outputs": [],
   "source": [
    "def greet_user(username, food=None):\n",
    "    \"\"\"Display a simple greeting.\"\"\"\n",
    "    if food == None:\n",
    "        print(\"Hello, \" + username.title() + \"!\")\n",
    "    else:\n",
    "        print(\"Hello, \" + username.title() + \"! Your favorite food is \" + food.title())"
   ]
  },
  {
   "cell_type": "code",
   "execution_count": null,
   "id": "6a9a18a2",
   "metadata": {},
   "outputs": [],
   "source": [
    "greet_user('Mr. Powers')\n",
    "greet_user('Mr. Powers', 'pizza') "
   ]
  },
  {
   "cell_type": "markdown",
   "id": "14b5d3fe",
   "metadata": {},
   "source": [
    "``` python\n",
    "def greet_user(username, food=None):\n",
    "```\n",
    "    In the above code, you can see the default value of food is set to none. This value can be \n",
    "    set to anything you would like. In this function, we are setting it to None. "
   ]
  },
  {
   "cell_type": "code",
   "execution_count": null,
   "id": "c449e252",
   "metadata": {},
   "outputs": [],
   "source": [
    "def greet_user(username='hellow', food='pizza'):\n",
    "    \"\"\"Display a simple greeting.\"\"\"\n",
    "    print(\"Hello, \" + username.title() + \"! Your favorite food is \" + food.title())"
   ]
  },
  {
   "cell_type": "code",
   "execution_count": null,
   "id": "e0624969",
   "metadata": {},
   "outputs": [],
   "source": [
    "greet_user('Mr. Powers')\n",
    "greet_user('Mr. Powers', 'PB&J') \n",
    "greet_user()"
   ]
  },
  {
   "cell_type": "code",
   "execution_count": null,
   "id": "4e49e2e4",
   "metadata": {},
   "outputs": [],
   "source": [
    "def greet_user(food='pizza', username): #Dont do this\n",
    "    \"\"\"Display a simple greeting.\"\"\"\n",
    "    print(\"Hello, \" + username.title() + \"! Your favorite food is \" + food.title())"
   ]
  },
  {
   "cell_type": "code",
   "execution_count": null,
   "id": "cdae665c-6612-4873-88bf-6ba5d8011317",
   "metadata": {},
   "outputs": [],
   "source": [
    "def greet_user(test, food='pizza', username=None): \n",
    "    \"\"\"Display a simple greeting.\"\"\"\n",
    "    print(\"Hello, \" + username.title() + \"! Your favorite food is \" + food.title())"
   ]
  },
  {
   "cell_type": "markdown",
   "id": "9762c127",
   "metadata": {},
   "source": [
    "    For Python interpreter to execute consistantly the needs non-default argument must be first."
   ]
  },
  {
   "cell_type": "markdown",
   "id": "c5240127",
   "metadata": {},
   "source": [
    "## Returning\n"
   ]
  },
  {
   "cell_type": "markdown",
   "id": "fe6cd810",
   "metadata": {},
   "source": [
    "        A function can return any value you want including Lists, Dictionaries, Int, Objects, ETC."
   ]
  },
  {
   "cell_type": "code",
   "execution_count": null,
   "id": "dcf18f92",
   "metadata": {},
   "outputs": [],
   "source": [
    "def student(first_name, last_name, GPA): # How do we make this display GPA when supplied a 0 GPA\n",
    "    \"\"\" Creates a dictionary of a student\"\"\"\n",
    "    person = {'first': first_name, 'last': last_name}\n",
    "    if GPA:\n",
    "        person['GPA'] = GPA\n",
    "    return person\n",
    "\n",
    "student1 = student('Mr.', 'Powers', 'zero')\n",
    "print(student1)\n",
    "print(student('Mr.', 'Powers', 'zero'))"
   ]
  },
  {
   "cell_type": "markdown",
   "id": "0ba4824c",
   "metadata": {},
   "source": [
    "    Refresh"
   ]
  },
  {
   "cell_type": "code",
   "execution_count": null,
   "id": "9008b9e3",
   "metadata": {},
   "outputs": [],
   "source": [
    "def remove_languages (languages, aList): \n",
    "    for i in aList:\n",
    "        languages.remove(i)"
   ]
  },
  {
   "cell_type": "code",
   "execution_count": null,
   "id": "2272d268-5068-48ef-ab07-d9a6994fa665",
   "metadata": {},
   "outputs": [],
   "source": [
    "disliked_languages = [\"Java\", \"C\"]\n",
    "languages = [\"Java\", \"C\", \"C++\", \"Python\"]"
   ]
  },
  {
   "cell_type": "code",
   "execution_count": null,
   "id": "2042bf79-d9b4-45d1-8f2e-6615b980ef27",
   "metadata": {},
   "outputs": [],
   "source": [
    "remove_languages(languages, disliked_languages)\n",
    "print(languages)"
   ]
  },
  {
   "cell_type": "markdown",
   "id": "c8e456b1",
   "metadata": {},
   "source": [
    "    What if we could not use Global?\n",
    "           "
   ]
  },
  {
   "cell_type": "code",
   "execution_count": null,
   "id": "86322b29",
   "metadata": {},
   "outputs": [],
   "source": [
    "languages = [\"Java\", \"C\", \"C++\", \"Python\"]\n",
    "learned_languages = []"
   ]
  },
  {
   "cell_type": "code",
   "execution_count": null,
   "id": "c1a87337",
   "metadata": {},
   "outputs": [],
   "source": [
    "while languages:\n",
    "    learned_languages = languages.pop()\n",
    "    print(\"Uploading \" + learned_languages +\" to your brain\")"
   ]
  },
  {
   "cell_type": "markdown",
   "id": "1f088e58",
   "metadata": {},
   "source": [
    "    now lets convert this to a function"
   ]
  },
  {
   "cell_type": "code",
   "execution_count": null,
   "id": "ddf94c7a-1543-4dd9-a6a6-a93715b2506f",
   "metadata": {},
   "outputs": [],
   "source": [
    "languages = [\"Java\", \"C\", \"C++\", \"Python\"]\n",
    "learned_languages = []"
   ]
  },
  {
   "cell_type": "code",
   "execution_count": null,
   "id": "aff4981e",
   "metadata": {},
   "outputs": [],
   "source": [
    "def learn(languages, learned_languages):\n",
    "    \"\"\" Simulate we are in the matrix\"\"\"\n",
    "    while languages:\n",
    "        learning = languages.pop()\n",
    "        print(\"Uploading \" + learning +\" to your brain\")\n",
    "        learned_languages.append(learning)\n",
    "        \n",
    "def show_uploaded_languages(learned):\n",
    "    print(\"You have learned:\")\n",
    "    for language in learned:\n",
    "        print(language)\n"
   ]
  },
  {
   "cell_type": "code",
   "execution_count": null,
   "id": "bc89f8db-0533-47f1-af00-c29977be3c8a",
   "metadata": {},
   "outputs": [],
   "source": [
    "learn(languages, learned_languages)\n",
    "show_uploaded_languages(learned_languages)\n",
    "print(languages)\n",
    "print(learned_languages)"
   ]
  },
  {
   "cell_type": "code",
   "execution_count": null,
   "id": "961ad86d-bff6-415c-9674-178f8b7b6e36",
   "metadata": {},
   "outputs": [],
   "source": [
    "languages = [\"Java\", \"C\", \"C++\", \"Python\"]\n",
    "learned_languages = []"
   ]
  },
  {
   "cell_type": "code",
   "execution_count": null,
   "id": "38456f9c",
   "metadata": {},
   "outputs": [],
   "source": [
    "#assume you do not want to change the lists\n",
    "\n",
    "learn(languages[:], learned_languages[:]) #this is less efficient than just passing a list\n",
    "show_uploaded_languages(learned_languages)\n",
    "print(languages)\n",
    "print(learned_languages)"
   ]
  },
  {
   "cell_type": "markdown",
   "id": "3b4a089f",
   "metadata": {},
   "source": [
    "    When writing a program you may not know how many items to accept. "
   ]
  },
  {
   "cell_type": "code",
   "execution_count": null,
   "id": "5dc16cf5",
   "metadata": {},
   "outputs": [],
   "source": [
    "def bucket_list(*things_to_do):\n",
    "    \"\"\" Print the list of input strings \"\"\"\n",
    "    print(things_to_do)\n",
    "    print(type(things_to_do))\n",
    "    for things in things_to_do:\n",
    "        print(things)\n",
    "\n",
    "#bucket_list('pass collage', 'be a millionaire')\n",
    "bucket_list('don\\'t die', 'live forever', 'be a millionaire')"
   ]
  },
  {
   "cell_type": "markdown",
   "id": "d27382f7",
   "metadata": {},
   "source": [
    "    Lets up the complexity!"
   ]
  },
  {
   "cell_type": "code",
   "execution_count": null,
   "id": "d32174d1",
   "metadata": {},
   "outputs": [],
   "source": [
    "def student(first_name, last_name, **args): \n",
    "    \"\"\" Creates a dictionary of a student \"\"\"\n",
    "    person = {'first': first_name, 'last': last_name}\n",
    "    print(args)\n",
    "    for key, value in args.items():\n",
    "        person[key]= value\n",
    "    return person\n",
    "        \n",
    "student1 = student('Mr.', 'Powers', GPA = 0.0)\n",
    "print(student1) "
   ]
  },
  {
   "cell_type": "code",
   "execution_count": null,
   "id": "5154e8d8-7db2-433e-8ba4-ea4e915a0f0d",
   "metadata": {},
   "outputs": [],
   "source": [
    "help(print)"
   ]
  },
  {
   "cell_type": "markdown",
   "id": "37a4e293",
   "metadata": {},
   "source": [
    "# Importing - A start to beter code\n",
    "    Puting Functions into a module and then importing it is a step to becoming an professional coder. \n",
    "    Modules let you create simple resuable code to reduce the time needed in coding. This allows you\n",
    "    to focus on larger and more complicated problems.\n",
    "    \n",
    "    But how do we use a module. To use a module you must first import it. "
   ]
  },
  {
   "cell_type": "markdown",
   "id": "615ee64e",
   "metadata": {},
   "source": [
    "```python\n",
    "import module_name\n",
    "from module_name import function1, function2\n",
    "\n",
    "module_name.function_name()\n",
    "```"
   ]
  },
  {
   "cell_type": "code",
   "execution_count": 1,
   "id": "7eaaf710",
   "metadata": {},
   "outputs": [
    {
     "name": "stdout",
     "output_type": "stream",
     "text": [
      "hellow world\n"
     ]
    }
   ],
   "source": [
    "import Hi"
   ]
  },
  {
   "cell_type": "code",
   "execution_count": 3,
   "id": "e9faed9a",
   "metadata": {},
   "outputs": [
    {
     "name": "stdout",
     "output_type": "stream",
     "text": [
      "hi\n"
     ]
    }
   ],
   "source": [
    "Hi.print_hi()"
   ]
  },
  {
   "cell_type": "markdown",
   "id": "d7003121",
   "metadata": {},
   "source": [
    "Note: Since Jupyter notebook is an Interactive Python (ipython) file to import a Jupyter notebook  into another Jupyter is not quite the same as importing a module. Insted you run the ipython file inside your current notebook. this may have side affects and is not recomended. Insted you want to create a py file with your modules in it. \n",
    "\n",
    "```python\n",
    "%run MyOtherNotebook.ipynb\n",
    "```"
   ]
  },
  {
   "cell_type": "code",
   "execution_count": 4,
   "id": "46bab753",
   "metadata": {},
   "outputs": [
    {
     "name": "stdout",
     "output_type": "stream",
     "text": [
      "hi\n",
      "No number is greater than 0\n",
      "10\n"
     ]
    }
   ],
   "source": [
    "%run Lecture1.ipynb"
   ]
  },
  {
   "cell_type": "code",
   "execution_count": null,
   "id": "5cb3c732",
   "metadata": {},
   "outputs": [],
   "source": [
    "!sed -n '126,132p' Lecture1.ipynb #here is the snip of the code search \"stream editor\""
   ]
  },
  {
   "cell_type": "markdown",
   "id": "614e296d",
   "metadata": {},
   "source": [
    "As you can see it runs evertying in that file insted of importing it. In this case you would just run the functions that are in that file rather than calling on the moduel. This will cause problems later on. \n"
   ]
  },
  {
   "cell_type": "code",
   "execution_count": 5,
   "id": "780ea97f",
   "metadata": {},
   "outputs": [
    {
     "name": "stdin",
     "output_type": "stream",
     "text": [
      "enter a number from 1 to 10. 1\n"
     ]
    },
    {
     "name": "stdout",
     "output_type": "stream",
     "text": [
      "your number is less than or equal to 10\n"
     ]
    }
   ],
   "source": [
    "numbers()"
   ]
  },
  {
   "cell_type": "markdown",
   "id": "1457332e",
   "metadata": {},
   "source": [
    "Another way is to create the file within Jupyter"
   ]
  },
  {
   "cell_type": "code",
   "execution_count": 6,
   "id": "c5cce4d9",
   "metadata": {},
   "outputs": [
    {
     "name": "stdout",
     "output_type": "stream",
     "text": [
      "Writing test.py\n"
     ]
    }
   ],
   "source": [
    "%%writefile test.py\n",
    "\n",
    "def testing():\n",
    "    print(\"testing...1...2...3\")"
   ]
  },
  {
   "cell_type": "code",
   "execution_count": 7,
   "id": "668f8fbf",
   "metadata": {},
   "outputs": [
    {
     "name": "stdout",
     "output_type": "stream",
     "text": [
      "{\n",
      " \"cells\": [\n",
      "  {\n",
      "   \"cell_type\": \"code\",\n",
      "   \"execution_count\": 8,\n",
      "   \"id\": \"d73cad45\",\n",
      "   \"metadata\": {},\n",
      "   \"outputs\": [\n",
      "    {\n",
      "     \"name\": \"stdout\",\n",
      "     \"output_type\": \"stream\",\n",
      "     \"text\": [\n",
      "      \"hi\\n\"\n",
      "     ]\n",
      "    }\n",
      "   ],\n",
      "   \"source\": [\n",
      "    \"if 1 < 2:\\n\",\n",
      "    \"        a=1\\n\",\n",
      "    \"print(\\\"hi\\\")\"\n",
      "   ]\n",
      "  },\n",
      "  {\n",
      "   \"cell_type\": \"code\",\n",
      "   \"execution_count\": 15,\n",
      "   \"id\": \"7de0a408\",\n",
      "   \"metadata\": {},\n",
      "   \"outputs\": [\n",
      "    {\n",
      "     \"name\": \"stdout\",\n",
      "     \"output_type\": \"stream\",\n",
      "     \"text\": [\n",
      "      \"No number is greater than 0\\n\"\n",
      "     ]\n",
      "    }\n",
      "   ],\n",
      "   \"source\": [\n",
      "    \"a = -10\\n\",\n",
      "    \"b = -12\\n\",\n",
      "    \"if a > 0 and  b > 0:\\n\",\n",
      "    \"    print(\\\"the numbers are greater than 0\\\")\\n\",\n",
      "    \"elif a > 0 or b > 0:\\n\",\n",
      "    \"    print(\\\"ONe fo the nubeers is greater than 0\\\")\\n\",\n",
      "    \"else:\\n\",\n",
      "    \"    print(\\\"No number is greater than 0\\\")\\n\"\n",
      "   ]\n",
      "  },\n",
      "  {\n",
      "   \"cell_type\": \"code\",\n",
      "   \"execution_count\": 17,\n",
      "   \"id\": \"41c18375\",\n",
      "   \"metadata\": {},\n",
      "   \"outputs\": [\n",
      "    {\n",
      "     \"name\": \"stdout\",\n",
      "     \"output_type\": \"stream\",\n",
      "     \"text\": [\n",
      "      \"10\\n\"\n",
      "     ]\n",
      "    }\n",
      "   ],\n",
      "   \"source\": [\n",
      "    \"a=10\\n\",\n",
      "    \"b=10\\n\",\n",
      "    \"if a == b:\\n\",\n",
      "    \"    a=7\\n\",\n",
      "    \"print(b)\"\n",
      "   ]\n",
      "  },\n",
      "  {\n",
      "   \"cell_type\": \"code\",\n",
      "   \"execution_count\": 18,\n",
      "   \"id\": \"7550f1fd\",\n",
      "   \"metadata\": {},\n",
      "   \"outputs\": [\n",
      "    {\n",
      "     \"ename\": \"SyntaxError\",\n",
      "     \"evalue\": \"invalid syntax (3641918804.py, line 1)\",\n",
      "     \"output_type\": \"error\",\n",
      "     \"traceback\": [\n",
      "      \"\\u001b[0;36m  File \\u001b[0;32m\\\"/var/folders/6c/phtqtltd4wn1pydbmzp55knr0000gp/T/ipykernel_8629/3641918804.py\\\"\\u001b[0;36m, line \\u001b[0;32m1\\u001b[0m\\n\\u001b[0;31m    ==\\u001b[0m\\n\\u001b[0m    ^\\u001b[0m\\n\\u001b[0;31mSyntaxError\\u001b[0m\\u001b[0;31m:\\u001b[0m invalid syntax\\n\"\n",
      "     ]\n",
      "    }\n",
      "   ],\n",
      "   \"source\": [\n",
      "    \"'''==\\n\",\n",
      "    \"!=\\n\",\n",
      "    \">\\n\",\n",
      "    \"<\\n\",\n",
      "    \">=\\n\",\n",
      "    \"<=\\n\",\n",
      "    \"\\n\",\n",
      "    \"and\\n\",\n",
      "    \"or \\n\",\n",
      "    \"not\\n\",\n",
      "    \"'''\"\n",
      "   ]\n",
      "  },\n",
      "  {\n",
      "   \"cell_type\": \"code\",\n",
      "   \"execution_count\": 19,\n",
      "   \"id\": \"195b99e6\",\n",
      "   \"metadata\": {},\n",
      "   \"outputs\": [\n",
      "    {\n",
      "     \"ename\": \"SyntaxError\",\n",
      "     \"evalue\": \"invalid syntax (551997379.py, line 1)\",\n",
      "     \"output_type\": \"error\",\n",
      "     \"traceback\": [\n",
      "      \"\\u001b[0;36m  File \\u001b[0;32m\\\"/var/folders/6c/phtqtltd4wn1pydbmzp55knr0000gp/T/ipykernel_8629/551997379.py\\\"\\u001b[0;36m, line \\u001b[0;32m1\\u001b[0m\\n\\u001b[0;31m    >\\u001b[0m\\n\\u001b[0m    ^\\u001b[0m\\n\\u001b[0;31mSyntaxError\\u001b[0m\\u001b[0;31m:\\u001b[0m invalid syntax\\n\"\n",
      "     ]\n",
      "    }\n",
      "   ],\n",
      "   \"source\": [\n",
      "    \"'''>\\n\",\n",
      "    \"<'''\"\n",
      "   ]\n",
      "  },\n",
      "  {\n",
      "   \"cell_type\": \"code\",\n",
      "   \"execution_count\": 2,\n",
      "   \"id\": \"76840bb8\",\n",
      "   \"metadata\": {},\n",
      "   \"outputs\": [],\n",
      "   \"source\": [\n",
      "    \"def numbers():\\n\",\n",
      "    \"    number = int(input(\\\"enter a number from 1 to 10.\\\"))\\n\",\n",
      "    \"    if number > 10:\\n\",\n",
      "    \"        print(\\\"your number is to big\\\")\\n\",\n",
      "    \"    else:\\n\",\n",
      "    \"        if number <= 10:\\n\",\n",
      "    \"            print(\\\"your number is less than or equal to 10\\\")\"\n",
      "   ]\n",
      "  }\n",
      " ],\n",
      " \"metadata\": {\n",
      "  \"kernelspec\": {\n",
      "   \"display_name\": \"Python 3 (ipykernel)\",\n",
      "   \"language\": \"python\",\n",
      "   \"name\": \"python3\"\n",
      "  },\n",
      "  \"language_info\": {\n",
      "   \"codemirror_mode\": {\n",
      "    \"name\": \"ipython\",\n",
      "    \"version\": 3\n",
      "   },\n",
      "   \"file_extension\": \".py\",\n",
      "   \"mimetype\": \"text/x-python\",\n",
      "   \"name\": \"python\",\n",
      "   \"nbconvert_exporter\": \"python\",\n",
      "   \"pygments_lexer\": \"ipython3\",\n",
      "   \"version\": \"3.11.2\"\n",
      "  }\n",
      " },\n",
      " \"nbformat\": 4,\n",
      " \"nbformat_minor\": 5\n",
      "}\n"
     ]
    }
   ],
   "source": [
    "!cat Lecture1.ipynb"
   ]
  },
  {
   "cell_type": "code",
   "execution_count": 8,
   "id": "a8275b64",
   "metadata": {},
   "outputs": [
    {
     "ename": "NameError",
     "evalue": "name 'test' is not defined",
     "output_type": "error",
     "traceback": [
      "\u001b[0;31m---------------------------------------------------------------------------\u001b[0m",
      "\u001b[0;31mNameError\u001b[0m                                 Traceback (most recent call last)",
      "Cell \u001b[0;32mIn[8], line 1\u001b[0m\n\u001b[0;32m----> 1\u001b[0m \u001b[43mtest\u001b[49m\u001b[38;5;241m.\u001b[39mtesting()\n",
      "\u001b[0;31mNameError\u001b[0m: name 'test' is not defined"
     ]
    }
   ],
   "source": [
    "test.testing()"
   ]
  },
  {
   "cell_type": "code",
   "execution_count": 9,
   "id": "40e8d265",
   "metadata": {},
   "outputs": [],
   "source": [
    "import test"
   ]
  },
  {
   "cell_type": "code",
   "execution_count": 10,
   "id": "f204ce16",
   "metadata": {},
   "outputs": [
    {
     "name": "stdout",
     "output_type": "stream",
     "text": [
      "testing...1...2...3\n"
     ]
    }
   ],
   "source": [
    "test.testing()"
   ]
  },
  {
   "cell_type": "markdown",
   "id": "7e972541",
   "metadata": {},
   "source": [
    "One advantage of importing is you are able to give code an alias. An alias alows you to import a moduel with no risk of conflicting with functions that are already in your code"
   ]
  },
  {
   "cell_type": "code",
   "execution_count": 11,
   "id": "52307d0a",
   "metadata": {},
   "outputs": [],
   "source": [
    "import test as t"
   ]
  },
  {
   "cell_type": "code",
   "execution_count": 12,
   "id": "46ec2a3e",
   "metadata": {},
   "outputs": [
    {
     "name": "stdout",
     "output_type": "stream",
     "text": [
      "testing...1...2...3\n"
     ]
    }
   ],
   "source": [
    "t.testing()"
   ]
  },
  {
   "cell_type": "code",
   "execution_count": 13,
   "id": "df00b2e3",
   "metadata": {},
   "outputs": [],
   "source": [
    "from test import testing as t"
   ]
  },
  {
   "cell_type": "code",
   "execution_count": 14,
   "id": "1ebbbd8d",
   "metadata": {},
   "outputs": [
    {
     "name": "stdout",
     "output_type": "stream",
     "text": [
      "testing...1...2...3\n"
     ]
    }
   ],
   "source": [
    "t()"
   ]
  },
  {
   "cell_type": "code",
   "execution_count": 15,
   "id": "c9381a91",
   "metadata": {},
   "outputs": [],
   "source": [
    "import numpy as np #we will be using num py soon."
   ]
  },
  {
   "cell_type": "code",
   "execution_count": 16,
   "id": "e3fc4aac",
   "metadata": {},
   "outputs": [
    {
     "ename": "SyntaxError",
     "evalue": "invalid syntax (2469254449.py, line 1)",
     "output_type": "error",
     "traceback": [
      "\u001b[0;36m  Cell \u001b[0;32mIn[16], line 1\u001b[0;36m\u001b[0m\n\u001b[0;31m    np.\u001b[0m\n\u001b[0m       ^\u001b[0m\n\u001b[0;31mSyntaxError\u001b[0m\u001b[0;31m:\u001b[0m invalid syntax\n"
     ]
    }
   ],
   "source": [
    "np.do_stuff"
   ]
  },
  {
   "cell_type": "markdown",
   "id": "6636d02b",
   "metadata": {},
   "source": [
    "Remember when writing your functions to think of there use case and ensure your are cleanly creating code that is usable and easy to read\n",
    "\n",
    "- Functions should have descriptive names, and these names should use lowercase letters and underscores\n",
    "```python\n",
    "print_hello()#good\n",
    "print_hello_to_the_output_window()#bad\n",
    "```\n",
    "\n",
    "- Every function should have a comment that explains concisely what the function does.\n",
    "``` python\n",
    "\"\"\"Docstring\"\"\" \n",
    "# comment\n",
    "'''\n",
    "This is a multiline\n",
    "comment.\n",
    "'''\n",
    "```\n",
    "- If you specify a default value for a parameter, no spaces should be used on either side of the equal sign\n",
    "\n",
    "```python \n",
    "def function_name(parameter_0, parameter_1='default value')\n",
    "function_name(value_0, parameter_1='value')\n",
    "```\n",
    "\n",
    "- limit lines of code to 79 characters so every line is visible in a reasonably sized editor window\n",
    "\n",
    "```python\n",
    "def function_name(\n",
    "    parameter_0, parameter_1, parameter_2,#note the comma is on this line\n",
    "    parameter_3, parameter_4, parameter_5):#not this line\n",
    "    function body...\n",
    "```"
   ]
  }
 ],
 "metadata": {
  "kernelspec": {
   "display_name": "Python 3 (ipykernel)",
   "language": "python",
   "name": "python3"
  },
  "language_info": {
   "codemirror_mode": {
    "name": "ipython",
    "version": 3
   },
   "file_extension": ".py",
   "mimetype": "text/x-python",
   "name": "python",
   "nbconvert_exporter": "python",
   "pygments_lexer": "ipython3",
   "version": "3.11.2"
  }
 },
 "nbformat": 4,
 "nbformat_minor": 5
}
